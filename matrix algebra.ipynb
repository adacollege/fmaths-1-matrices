{
 "cells": [
  {
   "cell_type": "markdown",
   "metadata": {
    "slideshow": {
     "slide_type": "slide"
    }
   },
   "source": [
    "We have $A^2=7A+2I$.\n",
    "\n",
    "We want $A^{-1}=\\frac{1}{2}\\left(A-7I\\right)$."
   ]
  },
  {
   "cell_type": "markdown",
   "metadata": {
    "slideshow": {
     "slide_type": "fragment"
    }
   },
   "source": [
    "$$\\begin{aligned}\n",
    "A^2&=7A+2I\\\\\n",
    "A^{-1}A^2&=A^{-1}7A+A^{-1}2I&&\\text{multiplying both sides by }A^{-1}\\\\\n",
    "A&=7I+2A^{-1}&&\\text{simplifying}\\\\\n",
    "2A^{-1}&=A-7I&&\\text{rearranging}\\\\\n",
    "A^{-1}&=\\frac{1}{2}\\left(A-7I\\right)&&\\text{as required.}\n",
    "\\end{aligned}$$"
   ]
  }
 ],
 "metadata": {
  "celltoolbar": "Slideshow",
  "hide_input": false,
  "kernelspec": {
   "display_name": "Python 3",
   "language": "python",
   "name": "python3"
  },
  "language_info": {
   "codemirror_mode": {
    "name": "ipython",
    "version": 3
   },
   "file_extension": ".py",
   "mimetype": "text/x-python",
   "name": "python",
   "nbconvert_exporter": "python",
   "pygments_lexer": "ipython3",
   "version": "3.5.2"
  },
  "livereveal": {
   "theme": "ada"
  }
 },
 "nbformat": 4,
 "nbformat_minor": 1
}
