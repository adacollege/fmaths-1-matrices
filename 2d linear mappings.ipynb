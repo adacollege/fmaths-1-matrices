{
 "cells": [
  {
   "cell_type": "code",
   "execution_count": null,
   "metadata": {
    "id": "o-MLnium329M"
   },
   "outputs": [],
   "source": [
    "import matplotlib.pyplot as plt\n",
    "from ipywidgets import interact, FloatSlider"
   ]
  },
  {
   "cell_type": "markdown",
   "metadata": {
    "id": "KkduotGVfCL0"
   },
   "source": [
    "# Linear mappings\n",
    "The method `A` takes two number parameters and returns two numbers. The numbers returned by `A` are both found by a _linear combination_ of the parameters. This just means the two parameters are multiplied by constants and summed. We'll refer to a method which does this as a _linear mapping_."
   ]
  },
  {
   "cell_type": "code",
   "execution_count": null,
   "metadata": {
    "id": "IojLtIODTjCk"
   },
   "outputs": [],
   "source": [
    "# a, b, c, d are the constants used in the function A. Change these to change what A does\n",
    "# don't forget to run this cell when you make changes\n",
    "a=0\n",
    "b=-0.5\n",
    "c=2\n",
    "d=0\n",
    "\n",
    "# method A returns a pair of numbers, ax+by and cx+dy\n",
    "def A(x,y):\n",
    "  return a*x + b*y, c*x + d*y"
   ]
  },
  {
   "cell_type": "code",
   "execution_count": null,
   "metadata": {
    "colab": {
     "base_uri": "https://localhost:8080/"
    },
    "id": "-GNDj-1rT6VY",
    "outputId": "22e8c6b5-51a3-42ee-b098-47a3b77ee1cf"
   },
   "outputs": [
    {
     "data": {
      "text/plain": [
       "(-0.5, 2)"
      ]
     },
     "execution_count": 3,
     "metadata": {
      "tags": []
     },
     "output_type": "execute_result"
    }
   ],
   "source": [
    "# change the parameters and run this cell to see the return of the method for different parameters\n",
    "A(1, 1)"
   ]
  },
  {
   "cell_type": "markdown",
   "metadata": {
    "id": "voKVyyX2vWDb"
   },
   "source": [
    "Find the values of `a`, `b`, `c`, and `d` for which `A` has the following behaviour:\n",
    "1. `A` returns the same pair of numbers which were passed to it. For example `A(2, 3)` would return `(2, 3)`.\n",
    "2. `A` returns the pair of numbers which were passed to it but swapped. For example `A(2, 3)` would return `(3, 2)`.\n",
    "3. `A` multiplies both numbers by a factor of `-5`. For example `A(1, -4)` would return `(-5, 20)`.\n",
    "4. `A(1, 2)` returns `(-1, 2)` and `A(1, 1)` returns `(0, 2)`.\n",
    "5. `A(1, 0)` returns `(2, 3)` and `A(0, 1)` returns `(-2, 5)`."
   ]
  },
  {
   "cell_type": "markdown",
   "metadata": {
    "id": "RX4rte482Cii"
   },
   "source": [
    "# Linear mappings on vectors\n",
    "We can think of a pair of numbers as a column vector (difficult to represent in a jupyter code cell). The cells below plot the vector given by `(x, y)` and the vector given by the return of `A(x, y)`."
   ]
  },
  {
   "cell_type": "code",
   "execution_count": null,
   "metadata": {
    "id": "8XZp5_X131mY"
   },
   "outputs": [],
   "source": [
    "def plot_vectors(x=1, y=1):\n",
    "  Ax, Ay = A(x,y)\n",
    "  # set up axes so it looks good\n",
    "  fig, ax = plt.subplots(figsize = (10,10))\n",
    "  ax.set_ybound(min(y, Ay, -5)-1, max(y, Ay, 5)+1)\n",
    "  ax.set_xbound(min(x, Ax, -5)-1, max(x, Ax, 5)+1)\n",
    "  ax.set_aspect(1)\n",
    "  ax.spines['left'].set_position('zero')\n",
    "  ax.spines['bottom'].set_position('zero')\n",
    "  ax.spines['right'].set_color('none')\n",
    "  ax.spines['top'].set_color('none')\n",
    "\n",
    "  # plot and label arrows\n",
    "  label_string = \"${}\\\\binom{{x}}{{y}}=\\\\binom{{{}}}{{{}}}$\"\n",
    "  ax.annotate(\"\", (0,0), xytext = (x, y), arrowprops=dict(arrowstyle=\"<-\"))\n",
    "  ax.annotate(label_string.format(\"\", x,y), (x, y), xytext = (x, y), fontsize=\"x-large\")\n",
    "  ax.annotate(\"\", (0,0), xytext = (Ax, Ay), arrowprops=dict(arrowstyle=\"<-\"))\n",
    "  ax.annotate(label_string.format(\"A\", Ax, Ay), (Ax,Ay), xytext = (Ax, Ay), fontsize=\"x-large\")"
   ]
  },
  {
   "cell_type": "code",
   "execution_count": null,
   "metadata": {
    "colab": {
     "base_uri": "https://localhost:8080/",
     "height": 648,
     "referenced_widgets": [
      "b9cb21b615b0411a8ae77d9321f43857",
      "46d5b675cb5142d588bdaf9aac12b00f",
      "9fc6b456ec334e91b0be84e6dd7f32c7",
      "9ff860bf5b4d4898a47e4609c4bbde49",
      "3997b016095b40d894c673f65f5fc63e",
      "2e35223d95c44decacb11909a0aa29a5",
      "5b1b0bda95ad4b94a09854f591cf5603",
      "fbd6c7f872c64e289dd58d183fae9f7c",
      "e868add835584d369fea579705899d17",
      "31186ccc3d694207bc8f77560517f869"
     ]
    },
    "id": "pGkVmhFLTju-",
    "outputId": "01f00f10-560a-412b-bb4f-1f347bd465a6"
   },
   "outputs": [
    {
     "data": {
      "application/vnd.jupyter.widget-view+json": {
       "model_id": "b9cb21b615b0411a8ae77d9321f43857",
       "version_major": 2,
       "version_minor": 0
      },
      "text/plain": [
       "interactive(children=(IntSlider(value=1, description='x', max=6, min=-6), IntSlider(value=1, description='y', …"
      ]
     },
     "metadata": {
      "tags": []
     },
     "output_type": "display_data"
    }
   ],
   "source": [
    "a=1\n",
    "b=2\n",
    "c=0\n",
    "d=1\n",
    "interact(plot_vectors, x=(-6,6,1), y=((-6,6,1)));"
   ]
  },
  {
   "cell_type": "markdown",
   "metadata": {
    "id": "T3wfpoPn-h7o"
   },
   "source": [
    "Remember that changing the constants a, b, c, d changes what the mapping `A` does. Describe geometrically what happens to a vector `(x, y)` when `a = -1`, `b = 0`, `c = -1` and `d = 0`."
   ]
  },
  {
   "cell_type": "markdown",
   "metadata": {
    "id": "G34mSMsA_M6K"
   },
   "source": [
    "Describe the geometric effect of the 5 mappings you found earlier:\n",
    "1. `A` returns the same pair of numbers which were passed to it. For example `A(2, 3)` would return `(2, 3)`.\n",
    "2. `A` returns the pair of numbers which were passed to it but swapped. For example `A(2, 3)` would return `(3, 2)`.\n",
    "3. `A` multiplies both numbers by a factor of `-5`. For example `A(1, -4)` would return `(-5, 20)`.\n",
    "4. `A(1, 2)` returns `(-1, 2)` and `A(1, 1)` returns `(0, 2)`.\n",
    "5. `A(1, 0)` returns `(2, 3)` and `A(0, 1)` returns `(-2, 5)`.\n",
    "\n",
    "What values of `a`, `b`, `c` and `d` lead to the following transformations?\n",
    "1. All vectors are enlarged by a scale factor of $3$.\n",
    "2. All vectors are rotated $90^\\circ$ anticlockwise.\n",
    "3. All vectors are rotated $90^\\circ$ clockwise.\n",
    "4. All vectors are reflected in the line $y=-x$.\n"
   ]
  },
  {
   "cell_type": "markdown",
   "metadata": {
    "id": "f-7MFIR3lCwg"
   },
   "source": [
    "# Combining linear mappings\n",
    "Here is a second linear mapping named `E`. We want to be able to combine our two mappings `A` and `E`."
   ]
  },
  {
   "cell_type": "code",
   "execution_count": null,
   "metadata": {
    "colab": {
     "base_uri": "https://localhost:8080/"
    },
    "id": "XJw9mtcdehcH",
    "outputId": "df6bec41-9945-4593-8bbb-4f93545e590e"
   },
   "outputs": [
    {
     "data": {
      "text/plain": [
       "(4, -6)"
      ]
     },
     "execution_count": 6,
     "metadata": {
      "tags": []
     },
     "output_type": "execute_result"
    }
   ],
   "source": [
    "e=3\n",
    "f=4\n",
    "g=2\n",
    "h=-6\n",
    "def E(x,y):\n",
    "  return e*x + f*y, g*x + h*y\n",
    "E(0,1)"
   ]
  },
  {
   "cell_type": "markdown",
   "metadata": {
    "id": "bJ4aXR-XmP7e"
   },
   "source": [
    "## Combining by adding\n",
    "One way to combine these mappings is to just apply both mappings to `(x, y)`, then add the returned values as vectors."
   ]
  },
  {
   "cell_type": "code",
   "execution_count": null,
   "metadata": {
    "colab": {
     "base_uri": "https://localhost:8080/"
    },
    "id": "AhBG8PoVlyPu",
    "outputId": "00dd5acb-1c63-409d-d98e-ff9b9c307815"
   },
   "outputs": [
    {
     "data": {
      "text/plain": [
       "(3, -6)"
      ]
     },
     "execution_count": 7,
     "metadata": {
      "tags": []
     },
     "output_type": "execute_result"
    }
   ],
   "source": [
    "def AplusE(x,y):\n",
    "  Ax, Ay = A(x,y)\n",
    "  Ex, Ey = E(x,y)\n",
    "  return Ax + Ex, Ay + Ey\n",
    "AplusE(0,1)"
   ]
  },
  {
   "cell_type": "markdown",
   "metadata": {
    "id": "XOrJvQIondKf"
   },
   "source": [
    "Maybe `AplusE` is itself a linear mapping?\n",
    "\n",
    "Let's see if we can come up with a linear mapping `P` which always comes up with the same values."
   ]
  },
  {
   "cell_type": "code",
   "execution_count": null,
   "metadata": {
    "colab": {
     "base_uri": "https://localhost:8080/"
    },
    "id": "fjfJJ1dtnDP3",
    "outputId": "ecb89694-97b3-49ec-ee70-10234e97619d"
   },
   "outputs": [
    {
     "data": {
      "text/plain": [
       "(3, -6)"
      ]
     },
     "execution_count": 9,
     "metadata": {
      "tags": []
     },
     "output_type": "execute_result"
    }
   ],
   "source": [
    "p=a+e\n",
    "q=b+f\n",
    "r=c+g\n",
    "s=d+h\n",
    "def P(x, y):\n",
    "  return p*x + q*y, r*x + s*y\n",
    "P(0,1)"
   ]
  },
  {
   "cell_type": "markdown",
   "metadata": {
    "id": "z3dIxc9poXLq"
   },
   "source": [
    "Can we make this solution general by writing `p`, `q`, `r` and `s` in terms of `a`, `b`, `c`, `d`, `e`, `f`, `g` and `h`?"
   ]
  },
  {
   "cell_type": "markdown",
   "metadata": {
    "id": "8v1BgTEfo3Rt"
   },
   "source": [
    "## Combining by composing\n",
    "Another way to combine these mappings is by applying one, then the other:"
   ]
  },
  {
   "cell_type": "code",
   "execution_count": null,
   "metadata": {
    "id": "Gw_Q0ksVpBBi"
   },
   "outputs": [],
   "source": [
    "def AthenE(x, y):\n",
    "  Ax, Ay = A(x, y)\n",
    "  return E(Ax, Ay)"
   ]
  },
  {
   "cell_type": "markdown",
   "metadata": {
    "id": "bZzPVosTpaqv"
   },
   "source": [
    "Again, can we come up with a linear mapping, `T` which does the same thing as `AthenE`?"
   ]
  },
  {
   "cell_type": "code",
   "execution_count": null,
   "metadata": {
    "id": "60mBjodFpiWG"
   },
   "outputs": [],
   "source": [
    "t=\n",
    "u=\n",
    "v=\n",
    "w=\n",
    "def T(x, y):\n",
    "  return t*x + u*y, v*x + w*y\n",
    "T(x, y)"
   ]
  },
  {
   "cell_type": "markdown",
   "metadata": {
    "id": "-xHphdY7pwyO"
   },
   "source": [
    "As before, try to define these four constants in terms of the eight used for A and E.\n",
    "\n",
    "Extra thoughts - would `EthenA` be the same mapping as `AthenE`? Why/why not?"
   ]
  }
 ],
 "metadata": {
  "colab": {
   "collapsed_sections": [],
   "name": "2-d Linear Mappings.ipynb",
   "provenance": []
  },
  "kernelspec": {
   "display_name": "Python 3",
   "name": "python3"
  },
  "widgets": {
   "application/vnd.jupyter.widget-state+json": {
    "2e35223d95c44decacb11909a0aa29a5": {
     "model_module": "@jupyter-widgets/controls",
     "model_name": "SliderStyleModel",
     "state": {
      "_model_module": "@jupyter-widgets/controls",
      "_model_module_version": "1.5.0",
      "_model_name": "SliderStyleModel",
      "_view_count": null,
      "_view_module": "@jupyter-widgets/base",
      "_view_module_version": "1.2.0",
      "_view_name": "StyleView",
      "description_width": "",
      "handle_color": null
     }
    },
    "31186ccc3d694207bc8f77560517f869": {
     "model_module": "@jupyter-widgets/base",
     "model_name": "LayoutModel",
     "state": {
      "_model_module": "@jupyter-widgets/base",
      "_model_module_version": "1.2.0",
      "_model_name": "LayoutModel",
      "_view_count": null,
      "_view_module": "@jupyter-widgets/base",
      "_view_module_version": "1.2.0",
      "_view_name": "LayoutView",
      "align_content": null,
      "align_items": null,
      "align_self": null,
      "border": null,
      "bottom": null,
      "display": null,
      "flex": null,
      "flex_flow": null,
      "grid_area": null,
      "grid_auto_columns": null,
      "grid_auto_flow": null,
      "grid_auto_rows": null,
      "grid_column": null,
      "grid_gap": null,
      "grid_row": null,
      "grid_template_areas": null,
      "grid_template_columns": null,
      "grid_template_rows": null,
      "height": null,
      "justify_content": null,
      "justify_items": null,
      "left": null,
      "margin": null,
      "max_height": null,
      "max_width": null,
      "min_height": null,
      "min_width": null,
      "object_fit": null,
      "object_position": null,
      "order": null,
      "overflow": null,
      "overflow_x": null,
      "overflow_y": null,
      "padding": null,
      "right": null,
      "top": null,
      "visibility": null,
      "width": null
     }
    },
    "3997b016095b40d894c673f65f5fc63e": {
     "model_module": "@jupyter-widgets/output",
     "model_name": "OutputModel",
     "state": {
      "_dom_classes": [],
      "_model_module": "@jupyter-widgets/output",
      "_model_module_version": "1.0.0",
      "_model_name": "OutputModel",
      "_view_count": null,
      "_view_module": "@jupyter-widgets/output",
      "_view_module_version": "1.0.0",
      "_view_name": "OutputView",
      "layout": "IPY_MODEL_31186ccc3d694207bc8f77560517f869",
      "msg_id": "",
      "outputs": [
       {
        "image/png": "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\n",
        "metadata": {
         "needs_background": "light",
         "tags": []
        },
        "output_type": "display_data",
        "text/plain": "<Figure size 720x720 with 1 Axes>"
       }
      ]
     }
    },
    "46d5b675cb5142d588bdaf9aac12b00f": {
     "model_module": "@jupyter-widgets/base",
     "model_name": "LayoutModel",
     "state": {
      "_model_module": "@jupyter-widgets/base",
      "_model_module_version": "1.2.0",
      "_model_name": "LayoutModel",
      "_view_count": null,
      "_view_module": "@jupyter-widgets/base",
      "_view_module_version": "1.2.0",
      "_view_name": "LayoutView",
      "align_content": null,
      "align_items": null,
      "align_self": null,
      "border": null,
      "bottom": null,
      "display": null,
      "flex": null,
      "flex_flow": null,
      "grid_area": null,
      "grid_auto_columns": null,
      "grid_auto_flow": null,
      "grid_auto_rows": null,
      "grid_column": null,
      "grid_gap": null,
      "grid_row": null,
      "grid_template_areas": null,
      "grid_template_columns": null,
      "grid_template_rows": null,
      "height": null,
      "justify_content": null,
      "justify_items": null,
      "left": null,
      "margin": null,
      "max_height": null,
      "max_width": null,
      "min_height": null,
      "min_width": null,
      "object_fit": null,
      "object_position": null,
      "order": null,
      "overflow": null,
      "overflow_x": null,
      "overflow_y": null,
      "padding": null,
      "right": null,
      "top": null,
      "visibility": null,
      "width": null
     }
    },
    "5b1b0bda95ad4b94a09854f591cf5603": {
     "model_module": "@jupyter-widgets/base",
     "model_name": "LayoutModel",
     "state": {
      "_model_module": "@jupyter-widgets/base",
      "_model_module_version": "1.2.0",
      "_model_name": "LayoutModel",
      "_view_count": null,
      "_view_module": "@jupyter-widgets/base",
      "_view_module_version": "1.2.0",
      "_view_name": "LayoutView",
      "align_content": null,
      "align_items": null,
      "align_self": null,
      "border": null,
      "bottom": null,
      "display": null,
      "flex": null,
      "flex_flow": null,
      "grid_area": null,
      "grid_auto_columns": null,
      "grid_auto_flow": null,
      "grid_auto_rows": null,
      "grid_column": null,
      "grid_gap": null,
      "grid_row": null,
      "grid_template_areas": null,
      "grid_template_columns": null,
      "grid_template_rows": null,
      "height": null,
      "justify_content": null,
      "justify_items": null,
      "left": null,
      "margin": null,
      "max_height": null,
      "max_width": null,
      "min_height": null,
      "min_width": null,
      "object_fit": null,
      "object_position": null,
      "order": null,
      "overflow": null,
      "overflow_x": null,
      "overflow_y": null,
      "padding": null,
      "right": null,
      "top": null,
      "visibility": null,
      "width": null
     }
    },
    "9fc6b456ec334e91b0be84e6dd7f32c7": {
     "model_module": "@jupyter-widgets/controls",
     "model_name": "IntSliderModel",
     "state": {
      "_dom_classes": [],
      "_model_module": "@jupyter-widgets/controls",
      "_model_module_version": "1.5.0",
      "_model_name": "IntSliderModel",
      "_view_count": null,
      "_view_module": "@jupyter-widgets/controls",
      "_view_module_version": "1.5.0",
      "_view_name": "IntSliderView",
      "continuous_update": true,
      "description": "x",
      "description_tooltip": null,
      "disabled": false,
      "layout": "IPY_MODEL_5b1b0bda95ad4b94a09854f591cf5603",
      "max": 6,
      "min": -6,
      "orientation": "horizontal",
      "readout": true,
      "readout_format": "d",
      "step": 1,
      "style": "IPY_MODEL_2e35223d95c44decacb11909a0aa29a5",
      "value": 1
     }
    },
    "9ff860bf5b4d4898a47e4609c4bbde49": {
     "model_module": "@jupyter-widgets/controls",
     "model_name": "IntSliderModel",
     "state": {
      "_dom_classes": [],
      "_model_module": "@jupyter-widgets/controls",
      "_model_module_version": "1.5.0",
      "_model_name": "IntSliderModel",
      "_view_count": null,
      "_view_module": "@jupyter-widgets/controls",
      "_view_module_version": "1.5.0",
      "_view_name": "IntSliderView",
      "continuous_update": true,
      "description": "y",
      "description_tooltip": null,
      "disabled": false,
      "layout": "IPY_MODEL_e868add835584d369fea579705899d17",
      "max": 6,
      "min": -6,
      "orientation": "horizontal",
      "readout": true,
      "readout_format": "d",
      "step": 1,
      "style": "IPY_MODEL_fbd6c7f872c64e289dd58d183fae9f7c",
      "value": 1
     }
    },
    "b9cb21b615b0411a8ae77d9321f43857": {
     "model_module": "@jupyter-widgets/controls",
     "model_name": "VBoxModel",
     "state": {
      "_dom_classes": [
       "widget-interact"
      ],
      "_model_module": "@jupyter-widgets/controls",
      "_model_module_version": "1.5.0",
      "_model_name": "VBoxModel",
      "_view_count": null,
      "_view_module": "@jupyter-widgets/controls",
      "_view_module_version": "1.5.0",
      "_view_name": "VBoxView",
      "box_style": "",
      "children": [
       "IPY_MODEL_9fc6b456ec334e91b0be84e6dd7f32c7",
       "IPY_MODEL_9ff860bf5b4d4898a47e4609c4bbde49",
       "IPY_MODEL_3997b016095b40d894c673f65f5fc63e"
      ],
      "layout": "IPY_MODEL_46d5b675cb5142d588bdaf9aac12b00f"
     }
    },
    "e868add835584d369fea579705899d17": {
     "model_module": "@jupyter-widgets/base",
     "model_name": "LayoutModel",
     "state": {
      "_model_module": "@jupyter-widgets/base",
      "_model_module_version": "1.2.0",
      "_model_name": "LayoutModel",
      "_view_count": null,
      "_view_module": "@jupyter-widgets/base",
      "_view_module_version": "1.2.0",
      "_view_name": "LayoutView",
      "align_content": null,
      "align_items": null,
      "align_self": null,
      "border": null,
      "bottom": null,
      "display": null,
      "flex": null,
      "flex_flow": null,
      "grid_area": null,
      "grid_auto_columns": null,
      "grid_auto_flow": null,
      "grid_auto_rows": null,
      "grid_column": null,
      "grid_gap": null,
      "grid_row": null,
      "grid_template_areas": null,
      "grid_template_columns": null,
      "grid_template_rows": null,
      "height": null,
      "justify_content": null,
      "justify_items": null,
      "left": null,
      "margin": null,
      "max_height": null,
      "max_width": null,
      "min_height": null,
      "min_width": null,
      "object_fit": null,
      "object_position": null,
      "order": null,
      "overflow": null,
      "overflow_x": null,
      "overflow_y": null,
      "padding": null,
      "right": null,
      "top": null,
      "visibility": null,
      "width": null
     }
    },
    "fbd6c7f872c64e289dd58d183fae9f7c": {
     "model_module": "@jupyter-widgets/controls",
     "model_name": "SliderStyleModel",
     "state": {
      "_model_module": "@jupyter-widgets/controls",
      "_model_module_version": "1.5.0",
      "_model_name": "SliderStyleModel",
      "_view_count": null,
      "_view_module": "@jupyter-widgets/base",
      "_view_module_version": "1.2.0",
      "_view_name": "StyleView",
      "description_width": "",
      "handle_color": null
     }
    }
   }
  }
 },
 "nbformat": 4,
 "nbformat_minor": 0
}
