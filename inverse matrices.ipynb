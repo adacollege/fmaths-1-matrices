{
 "cells": [
  {
   "cell_type": "code",
   "execution_count": null,
   "metadata": {
    "id": "Y50MYVRXro39",
    "nbpresent": {
     "id": "843212fc-5309-41c4-b696-e9759c63714f"
    }
   },
   "outputs": [],
   "source": [
    "from sympy import *\n",
    "init_printing()\n",
    "x, y, a, b, c, d, e, f, g, h = symbols('x y a b c d e f g h', real=True, nonzero=True)"
   ]
  },
  {
   "cell_type": "markdown",
   "metadata": {
    "id": "FntH3vr_ro3-",
    "nbpresent": {
     "id": "51568234-5ed1-4f57-83b4-d6d4f314081a"
    }
   },
   "source": [
    "# Inverse matrices\n",
    "Think of a pair of transformations that are inverses of each other.\n",
    "\n",
    "Multiply their matrices together.\n",
    "\n",
    "*What do you notice?*"
   ]
  },
  {
   "cell_type": "markdown",
   "metadata": {
    "id": "RdOMpY31ro3-",
    "nbpresent": {
     "id": "a7c6aec4-f0a5-4ae7-aa5c-0503b45ec317"
    }
   },
   "source": [
    "# Inverse matrices\n",
    "## Definition\n",
    "Matrix $M$ is the inverse of matrix $N$ if $MN=I$.\n",
    "\n",
    "Find, by inspection, or otherwise, the inverses of these matrices:\n",
    "1. $\\left(\\begin{array}{cc}2 & 0 \\\\ 0 & 3\\end{array}\\right)$\n",
    "2. $\\left(\\begin{array}{cc}0 & 1 \\\\ 2 & 0\\end{array}\\right)$\n",
    "3. $\\left(\\begin{array}{cc}2 & 3 \\\\ 5 & 7\\end{array}\\right)$"
   ]
  },
  {
   "cell_type": "markdown",
   "metadata": {
    "id": "RRb9e5Dqro3-",
    "nbpresent": {
     "id": "58efbf63-03e2-49dc-926c-9a1ad912bcf3"
    }
   },
   "source": [
    "# Inverse matrices\n",
    "In general then, for a $2\\times2$ matrix $\\left(\\begin{array}{cc}a & b \\\\ c & d\\end{array}\\right)$ we'd like to be able to find another $2\\times2$ matrix $\\left(\\begin{array}{cc}e & f \\\\ g & h\\end{array}\\right)$ such that\n",
    "$$\\left(\\begin{array}{cc}e & f \\\\ g & h\\end{array}\\right)\\times\\left(\\begin{array}{cc}a & b \\\\ c & d\\end{array}\\right)=\\left(\\begin{array}{cc}1 & 0 \\\\ 0 & 1\\end{array}\\right)$$"
   ]
  },
  {
   "cell_type": "code",
   "execution_count": null,
   "metadata": {
    "id": "mr_FIYpwro3-",
    "nbpresent": {
     "id": "5127dc7c-8492-4e12-9b4f-09c890e7587a"
    },
    "outputId": "5cb7d0e1-306e-47bf-981f-f9b930f2fb57"
   },
   "outputs": [
    {
     "data": {
      "text/latex": [
       "$$\\left[\\begin{matrix}a & b\\\\c & d\\end{matrix}\\right]$$"
      ],
      "text/plain": [
       "⎡a  b⎤\n",
       "⎢    ⎥\n",
       "⎣c  d⎦"
      ]
     },
     "execution_count": 16,
     "metadata": {
      "tags": []
     },
     "output_type": "execute_result"
    }
   ],
   "source": [
    "A=Matrix([[a,b],[c,d]])\n",
    "A"
   ]
  },
  {
   "cell_type": "code",
   "execution_count": null,
   "metadata": {
    "id": "SMgRcxChro4A",
    "nbpresent": {
     "id": "d9a2925f-fafa-4292-ac80-e4656a7516b9"
    },
    "outputId": "96f4d60b-cdec-4826-8921-1578412f1015"
   },
   "outputs": [
    {
     "data": {
      "text/latex": [
       "$$\\left[\\begin{matrix}\\frac{1}{a} + \\frac{b c}{a^{2} \\left(d - \\frac{b c}{a}\\right)} & - \\frac{b}{a \\left(d - \\frac{b c}{a}\\right)}\\\\- \\frac{c}{a \\left(d - \\frac{b c}{a}\\right)} & \\frac{1}{d - \\frac{b c}{a}}\\end{matrix}\\right]$$"
      ],
      "text/plain": [
       "⎡1       b⋅c           -b     ⎤\n",
       "⎢─ + ────────────  ───────────⎥\n",
       "⎢a    2 ⎛    b⋅c⎞    ⎛    b⋅c⎞⎥\n",
       "⎢    a ⋅⎜d - ───⎟  a⋅⎜d - ───⎟⎥\n",
       "⎢       ⎝     a ⎠    ⎝     a ⎠⎥\n",
       "⎢                             ⎥\n",
       "⎢      -c               1     ⎥\n",
       "⎢  ───────────       ───────  ⎥\n",
       "⎢    ⎛    b⋅c⎞           b⋅c  ⎥\n",
       "⎢  a⋅⎜d - ───⎟       d - ───  ⎥\n",
       "⎣    ⎝     a ⎠            a   ⎦"
      ]
     },
     "execution_count": 17,
     "metadata": {
      "tags": []
     },
     "output_type": "execute_result"
    }
   ],
   "source": [
    "A.inv()"
   ]
  },
  {
   "cell_type": "code",
   "execution_count": null,
   "metadata": {
    "id": "FTHVeobhro4B",
    "nbpresent": {
     "id": "93b1d978-9241-41fb-8ca8-74ff07ccaa00"
    },
    "outputId": "279ce411-5c10-4221-914b-567f2817c3a9"
   },
   "outputs": [
    {
     "data": {
      "text/latex": [
       "$$\\left[\\begin{matrix}\\frac{d}{a d - b c} & - \\frac{b}{a d - b c}\\\\- \\frac{c}{a d - b c} & \\frac{a}{a d - b c}\\end{matrix}\\right]$$"
      ],
      "text/plain": [
       "⎡    d         -b    ⎤\n",
       "⎢─────────  ─────────⎥\n",
       "⎢a⋅d - b⋅c  a⋅d - b⋅c⎥\n",
       "⎢                    ⎥\n",
       "⎢   -c          a    ⎥\n",
       "⎢─────────  ─────────⎥\n",
       "⎣a⋅d - b⋅c  a⋅d - b⋅c⎦"
      ]
     },
     "execution_count": 18,
     "metadata": {
      "tags": []
     },
     "output_type": "execute_result"
    }
   ],
   "source": [
    "A.inv().applyfunc(simplify)"
   ]
  },
  {
   "cell_type": "markdown",
   "metadata": {
    "id": "XEk0ub2mro4B",
    "nbpresent": {
     "id": "d1787cf4-1811-4f9b-8406-2406573feda6"
    }
   },
   "source": [
    "# The determinant\n",
    "That $ad-bc$ term is important enough to get a name\n",
    "$$\\text{Det}(A)=|A|=ad-bc$$\n",
    "Then, $A^{-1}$ is defined by\n",
    "$$A^{-1}=\\dfrac{1}{\\text{Det}(A)}\\left(\\begin{array}{cc}d & -b\\\\-c & a\\end{array}\\right)$$\n",
    "*Do all $2\\times2$ matrices have inverses, though?*"
   ]
  },
  {
   "cell_type": "markdown",
   "metadata": {
    "id": "eW8qAAAltX7j"
   },
   "source": [
    "# The determinant for common transformations\n",
    "For each of the following transformation types, come up with an example of that type of transformation, and write a matrix for it. Then calculate the determinant of that Matrix.\n",
    "\n",
    "1. A rotation about the origin\n",
    "2. A reflection in a line through the origin\n",
    "3. A stretch parallel to either the $x$ or $y$ axes\n",
    "4. An enlargment, centre the origin\n",
    "\n",
    "_Can you spot any patterns? What does the determinant of a $2\\times2$ matrix represent?_"
   ]
  },
  {
   "cell_type": "markdown",
   "metadata": {
    "id": "J052ivA6ro4B",
    "nbpresent": {
     "id": "8e1a8155-7cf2-4234-83be-5c9c10adf26a"
    }
   },
   "source": [
    "# Singular matrices\n",
    "A matrix $S$ is **singular** if $Det(S)=0$.\n",
    "\n",
    "Only **non-singular** matrices have inverses.\n",
    "\n",
    "*What do you notice about the 'transformations' associated with singular matrices?*"
   ]
  }
 ],
 "metadata": {
  "anaconda-cloud": {},
  "colab": {
   "name": "Inverse matrices.ipynb",
   "provenance": []
  },
  "hide_input": false,
  "kernelspec": {
   "display_name": "Python 3",
   "language": "python",
   "name": "python3"
  },
  "language_info": {
   "codemirror_mode": {
    "name": "ipython",
    "version": 3
   },
   "file_extension": ".py",
   "mimetype": "text/x-python",
   "name": "python",
   "nbconvert_exporter": "python",
   "pygments_lexer": "ipython3",
   "version": "3.8.5"
  },
  "nbpresent": {
   "slides": {
    "0145cffc-98ab-49ae-bd16-67dab01d136b": {
     "id": "0145cffc-98ab-49ae-bd16-67dab01d136b",
     "prev": "616cfee5-eac2-413d-94f3-5e9ed652d42e",
     "regions": {
      "16b006f1-4280-4ba7-aff5-0f709f077fe1": {
       "attrs": {
        "height": 1,
        "width": 1,
        "x": 0,
        "y": 0
       },
       "content": {
        "cell": "a7c6aec4-f0a5-4ae7-aa5c-0503b45ec317",
        "part": "whole"
       },
       "id": "16b006f1-4280-4ba7-aff5-0f709f077fe1"
      }
     }
    },
    "293079a2-1ed2-4dd6-bb1b-b30e02d9e41d": {
     "id": "293079a2-1ed2-4dd6-bb1b-b30e02d9e41d",
     "layout": "manual",
     "prev": "0145cffc-98ab-49ae-bd16-67dab01d136b",
     "regions": {
      "159b3a45-fe9e-41a4-8fca-2920ea2be160": {
       "attrs": {
        "height": 1,
        "pad": 0.01,
        "treemap:weight": 1,
        "width": 0.5,
        "x": 0,
        "y": 0
       },
       "content": {
        "cell": "58efbf63-03e2-49dc-926c-9a1ad912bcf3",
        "part": "whole"
       },
       "id": "159b3a45-fe9e-41a4-8fca-2920ea2be160"
      },
      "c378cbbf-a204-4f0b-9774-322e46699cdb": {
       "attrs": {
        "height": 1,
        "pad": 0.01,
        "treemap:weight": 1,
        "width": 0.5,
        "x": 0.5,
        "y": 0
       },
       "content": {
        "cell": "c8e628b6-fa0a-41ea-abbd-2398dec1cea6",
        "part": "whole"
       },
       "id": "c378cbbf-a204-4f0b-9774-322e46699cdb"
      }
     }
    },
    "616cfee5-eac2-413d-94f3-5e9ed652d42e": {
     "id": "616cfee5-eac2-413d-94f3-5e9ed652d42e",
     "prev": null,
     "regions": {
      "771f35cd-8c59-46b0-94e9-b2dddedb071e": {
       "attrs": {
        "height": 1,
        "width": 1,
        "x": 0,
        "y": 0
       },
       "content": {
        "cell": "51568234-5ed1-4f57-83b4-d6d4f314081a",
        "part": "whole"
       },
       "id": "771f35cd-8c59-46b0-94e9-b2dddedb071e"
      }
     }
    },
    "a9dd1697-69a8-4b59-82fc-72d10df9fd7f": {
     "id": "a9dd1697-69a8-4b59-82fc-72d10df9fd7f",
     "prev": "e0813f75-1c5d-4759-a952-9bdb64f88deb",
     "regions": {
      "51ef038d-2756-4171-985a-898acc077c2a": {
       "attrs": {
        "height": 1,
        "width": 1,
        "x": 0,
        "y": 0
       },
       "content": {
        "cell": "8e1a8155-7cf2-4234-83be-5c9c10adf26a",
        "part": "whole"
       },
       "id": "51ef038d-2756-4171-985a-898acc077c2a"
      }
     }
    },
    "bbae6329-b1a8-4c0e-b11e-2a5ddce1d4f3": {
     "id": "bbae6329-b1a8-4c0e-b11e-2a5ddce1d4f3",
     "prev": "293079a2-1ed2-4dd6-bb1b-b30e02d9e41d",
     "regions": {
      "4adbe427-9ef8-410b-aac9-3171ae4f4d1c": {
       "attrs": {
        "height": 0.4,
        "width": 0.4,
        "x": 0.1,
        "y": 0.1
       },
       "content": {
        "cell": "5127dc7c-8492-4e12-9b4f-09c890e7587a",
        "part": "source"
       },
       "id": "4adbe427-9ef8-410b-aac9-3171ae4f4d1c"
      },
      "70d6c394-9eab-4cc8-b2d9-601bce1820ae": {
       "attrs": {
        "height": 0.4,
        "width": 0.4,
        "x": 0.5,
        "y": 0.5
       },
       "content": {
        "cell": "d9a2925f-fafa-4292-ac80-e4656a7516b9",
        "part": "outputs"
       },
       "id": "70d6c394-9eab-4cc8-b2d9-601bce1820ae"
      },
      "f5c5bdda-2183-4464-b41f-cebfd9194156": {
       "attrs": {
        "height": 0.4,
        "width": 0.4,
        "x": 0.5,
        "y": 0.1
       },
       "content": {
        "cell": "5127dc7c-8492-4e12-9b4f-09c890e7587a",
        "part": "outputs"
       },
       "id": "f5c5bdda-2183-4464-b41f-cebfd9194156"
      },
      "f67c98b6-d22f-49af-a821-6a7a3ac30552": {
       "attrs": {
        "height": 0.4,
        "width": 0.4,
        "x": 0.1,
        "y": 0.5
       },
       "content": {
        "cell": "d9a2925f-fafa-4292-ac80-e4656a7516b9",
        "part": "source"
       },
       "id": "f67c98b6-d22f-49af-a821-6a7a3ac30552"
      }
     }
    },
    "e0813f75-1c5d-4759-a952-9bdb64f88deb": {
     "id": "e0813f75-1c5d-4759-a952-9bdb64f88deb",
     "prev": "f084abb5-17e4-409a-ae39-7a846c32bb4e",
     "regions": {
      "bcaa872f-16d3-4cd4-88f8-a3f66e18fe32": {
       "attrs": {
        "height": 1,
        "width": 1,
        "x": 0,
        "y": 0
       },
       "content": {
        "cell": "d1787cf4-1811-4f9b-8406-2406573feda6",
        "part": "whole"
       },
       "id": "bcaa872f-16d3-4cd4-88f8-a3f66e18fe32"
      }
     }
    },
    "f084abb5-17e4-409a-ae39-7a846c32bb4e": {
     "id": "f084abb5-17e4-409a-ae39-7a846c32bb4e",
     "prev": "bbae6329-b1a8-4c0e-b11e-2a5ddce1d4f3",
     "regions": {
      "466bc779-b54c-4adc-93d4-7eba07b5bac6": {
       "attrs": {
        "height": 0.8,
        "width": 0.45,
        "x": 0.05,
        "y": 0.1
       },
       "content": {
        "cell": "93b1d978-9241-41fb-8ca8-74ff07ccaa00",
        "part": "source"
       },
       "id": "466bc779-b54c-4adc-93d4-7eba07b5bac6"
      },
      "e89bdf2b-feb9-440d-a7e5-bd0e392c1b86": {
       "attrs": {
        "height": 0.8,
        "width": 0.45,
        "x": 0.5,
        "y": 0.1
       },
       "content": {
        "cell": "93b1d978-9241-41fb-8ca8-74ff07ccaa00",
        "part": "outputs"
       },
       "id": "e89bdf2b-feb9-440d-a7e5-bd0e392c1b86"
      }
     }
    }
   },
   "themes": {
    "default": "33cebe90-579d-4ad0-a1f5-323dad8ef258",
    "theme": {
     "25bc6766-d9af-4aca-95d0-deaba926572d": {
      "id": "25bc6766-d9af-4aca-95d0-deaba926572d",
      "palette": {
       "19cc588f-0593-49c9-9f4b-e4d7cc113b1c": {
        "id": "19cc588f-0593-49c9-9f4b-e4d7cc113b1c",
        "rgb": [
         252,
         252,
         252
        ]
       },
       "31af15d2-7e15-44c5-ab5e-e04b16a89eff": {
        "id": "31af15d2-7e15-44c5-ab5e-e04b16a89eff",
        "rgb": [
         68,
         68,
         68
        ]
       },
       "50f92c45-a630-455b-aec3-788680ec7410": {
        "id": "50f92c45-a630-455b-aec3-788680ec7410",
        "rgb": [
         155,
         177,
         192
        ]
       },
       "c5cc3653-2ee1-402a-aba2-7caae1da4f6c": {
        "id": "c5cc3653-2ee1-402a-aba2-7caae1da4f6c",
        "rgb": [
         43,
         126,
         184
        ]
       },
       "efa7f048-9acb-414c-8b04-a26811511a21": {
        "id": "efa7f048-9acb-414c-8b04-a26811511a21",
        "rgb": [
         25.118061674008803,
         73.60176211453744,
         107.4819383259912
        ]
       }
      },
      "rules": {
       "blockquote": {
        "color": "50f92c45-a630-455b-aec3-788680ec7410"
       },
       "code": {
        "font-family": "Anonymous Pro"
       },
       "h1": {
        "color": "c5cc3653-2ee1-402a-aba2-7caae1da4f6c",
        "font-family": "Lato",
        "font-size": 8
       },
       "h2": {
        "color": "c5cc3653-2ee1-402a-aba2-7caae1da4f6c",
        "font-family": "Lato",
        "font-size": 6
       },
       "h3": {
        "color": "50f92c45-a630-455b-aec3-788680ec7410",
        "font-family": "Lato",
        "font-size": 5.5
       },
       "h4": {
        "color": "c5cc3653-2ee1-402a-aba2-7caae1da4f6c",
        "font-family": "Lato",
        "font-size": 5
       },
       "h5": {
        "font-family": "Lato"
       },
       "h6": {
        "font-family": "Lato"
       },
       "h7": {
        "font-family": "Lato"
       },
       "pre": {
        "font-family": "Anonymous Pro",
        "font-size": 4
       }
      },
      "text-base": {
       "font-family": "Merriweather",
       "font-size": 4
      }
     },
     "2f548352-839f-4d68-9186-6e09ae938385": {
      "backgrounds": {
       "backgroundColor": {
        "background-color": "backgroundColor",
        "id": "backgroundColor"
       }
      },
      "id": "2f548352-839f-4d68-9186-6e09ae938385",
      "palette": {
       "backgroundColor": {
        "id": "backgroundColor",
        "rgb": [
         34,
         34,
         34
        ]
       },
       "headingColor": {
        "id": "headingColor",
        "rgb": [
         256,
         256,
         256
        ]
       },
       "linkColor": {
        "id": "linkColor",
        "rgb": [
         66,
         175,
         250
        ]
       },
       "mainColor": {
        "id": "mainColor",
        "rgb": [
         256,
         256,
         256
        ]
       }
      },
      "rules": {
       "a": {
        "color": "linkColor"
       },
       "h1": {
        "color": "headingColor",
        "font-family": "Source Sans Pro",
        "font-size": 5.25
       },
       "h2": {
        "color": "headingColor",
        "font-family": "Source Sans Pro",
        "font-size": 4
       },
       "h3": {
        "color": "headingColor",
        "font-family": "Source Sans Pro",
        "font-size": 3.5
       },
       "h4": {
        "color": "headingColor",
        "font-family": "Source Sans Pro",
        "font-size": 3
       },
       "h5": {
        "color": "headingColor",
        "font-family": "Source Sans Pro"
       },
       "h6": {
        "color": "headingColor",
        "font-family": "Source Sans Pro"
       },
       "h7": {
        "color": "headingColor",
        "font-family": "Source Sans Pro"
       },
       "li": {
        "color": "mainColor",
        "font-family": "Source Sans Pro",
        "font-size": 6
       },
       "p": {
        "color": "mainColor",
        "font-family": "Source Sans Pro",
        "font-size": 6
       }
      },
      "text-base": {
       "color": "mainColor",
       "font-family": "Source Sans Pro",
       "font-size": 6
      }
     },
     "33cebe90-579d-4ad0-a1f5-323dad8ef258": {
      "backgrounds": {
       "backgroundColor": {
        "background-color": "backgroundColor",
        "id": "backgroundColor"
       }
      },
      "id": "33cebe90-579d-4ad0-a1f5-323dad8ef258",
      "palette": {
       "backgroundColor": {
        "id": "backgroundColor",
        "rgb": [
         256,
         256,
         256
        ]
       },
       "headingColor": {
        "id": "headingColor",
        "rgb": [
         34,
         34,
         34
        ]
       },
       "linkColor": {
        "id": "linkColor",
        "rgb": [
         42,
         118,
         221
        ]
       },
       "mainColor": {
        "id": "mainColor",
        "rgb": [
         34,
         34,
         34
        ]
       }
      },
      "rules": {
       "a": {
        "color": "linkColor"
       },
       "h1": {
        "color": "headingColor",
        "font-family": "Source Sans Pro",
        "font-size": 5.25
       },
       "h2": {
        "color": "headingColor",
        "font-family": "Source Sans Pro",
        "font-size": 4
       },
       "h3": {
        "color": "headingColor",
        "font-family": "Source Sans Pro",
        "font-size": 3.5
       },
       "h4": {
        "color": "headingColor",
        "font-family": "Source Sans Pro",
        "font-size": 3
       },
       "h5": {
        "color": "headingColor",
        "font-family": "Source Sans Pro"
       },
       "h6": {
        "color": "headingColor",
        "font-family": "Source Sans Pro"
       },
       "h7": {
        "color": "headingColor",
        "font-family": "Source Sans Pro"
       },
       "li": {
        "color": "mainColor",
        "font-family": "Source Sans Pro",
        "font-size": 6
       },
       "p": {
        "color": "mainColor",
        "font-family": "Source Sans Pro",
        "font-size": 6
       }
      },
      "text-base": {
       "color": "mainColor",
       "font-family": "Source Sans Pro",
       "font-size": 6
      }
     },
     "87804b5d-1760-472c-94af-2a6d25132d29": {
      "backgrounds": {
       "backgroundColor": {
        "background-color": "backgroundColor",
        "id": "backgroundColor"
       }
      },
      "id": "87804b5d-1760-472c-94af-2a6d25132d29",
      "palette": {
       "backgroundColor": {
        "id": "backgroundColor",
        "rgb": [
         240,
         241,
         235
        ]
       },
       "headingColor": {
        "id": "headingColor",
        "rgb": [
         56,
         61,
         61
        ]
       },
       "linkColor": {
        "id": "linkColor",
        "rgb": [
         81,
         72,
         61
        ]
       },
       "mainColor": {
        "id": "mainColor",
        "rgb": [
         0,
         0,
         0
        ]
       }
      },
      "rules": {
       "a": {
        "color": "linkColor"
       },
       "h1": {
        "color": "headingColor",
        "font-family": "EB Garamond",
        "font-size": 7
       },
       "h2": {
        "color": "headingColor",
        "font-family": "EB Garamond",
        "font-size": 5
       },
       "h3": {
        "color": "headingColor",
        "font-family": "EB Garamond",
        "font-size": 3.75
       },
       "h4": {
        "color": "headingColor",
        "font-family": "EB Garamond",
        "font-size": 3
       },
       "h5": {
        "color": "headingColor",
        "font-family": "EB Garamond"
       },
       "h6": {
        "color": "headingColor",
        "font-family": "EB Garamond"
       },
       "h7": {
        "color": "headingColor",
        "font-family": "EB Garamond"
       },
       "li": {
        "color": "mainColor",
        "font-family": "EB Garamond",
        "font-size": 5
       },
       "p": {
        "color": "mainColor",
        "font-family": "EB Garamond",
        "font-size": 5
       }
      },
      "text-base": {
       "color": "mainColor",
       "font-family": "EB Garamond",
       "font-size": 5
      }
     }
    }
   }
  }
 },
 "nbformat": 4,
 "nbformat_minor": 1
}
