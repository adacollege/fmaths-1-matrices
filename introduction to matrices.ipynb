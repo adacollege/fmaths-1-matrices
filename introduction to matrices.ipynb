{
 "cells": [
  {
   "cell_type": "markdown",
   "metadata": {
    "nbpresent": {
     "id": "45b34417-59fe-4c85-af05-bf6c71150c11"
    }
   },
   "source": [
    "# Introduction to matrices"
   ]
  },
  {
   "cell_type": "code",
   "execution_count": null,
   "metadata": {
    "collapsed": true,
    "nbpresent": {
     "id": "a4381d86-8603-49f3-8ff8-83ba8d0ccc53"
    }
   },
   "outputs": [],
   "source": [
    "from IPython.display import YouTubeVideo\n",
    "YouTubeVideo(\"kqWCwwyeE6k\")"
   ]
  },
  {
   "cell_type": "code",
   "execution_count": 33,
   "metadata": {
    "collapsed": true,
    "nbpresent": {
     "id": "13331e5f-441b-4ace-8016-846319a35764"
    }
   },
   "outputs": [],
   "source": [
    "from sympy import *\n",
    "init_printing()"
   ]
  },
  {
   "cell_type": "markdown",
   "metadata": {
    "nbpresent": {
     "id": "f101c826-6f29-490f-990d-1767e1829b4c"
    }
   },
   "source": [
    "* A matrix is basically just a list of lists, a 2D array\n",
    "* But python doesn't know how to add or multiply arrays\n",
    "* Sympy does, if you give its Matrix object an array"
   ]
  },
  {
   "cell_type": "code",
   "execution_count": 4,
   "metadata": {
    "nbpresent": {
     "id": "9ac95698-afef-4e88-be53-4600339cc188"
    }
   },
   "outputs": [
    {
     "data": {
      "text/latex": [
       "$$\\left[\\begin{matrix}1 & 2 & 3\\\\4 & 5 & 6\\end{matrix}\\right]$$"
      ],
      "text/plain": [
       "⎡1  2  3⎤\n",
       "⎢       ⎥\n",
       "⎣4  5  6⎦"
      ]
     },
     "execution_count": 4,
     "metadata": {},
     "output_type": "execute_result"
    }
   ],
   "source": [
    "M = Matrix([[1,2,3],[4,5,6]])\n",
    "M"
   ]
  },
  {
   "cell_type": "code",
   "execution_count": null,
   "metadata": {
    "collapsed": true,
    "nbpresent": {
     "id": "a3012871-2f3c-4cc2-95da-4a762c1068cc"
    }
   },
   "outputs": [],
   "source": [
    "N = Matrix([[1,2],[3,4],[5,6]])\n",
    "N"
   ]
  },
  {
   "cell_type": "code",
   "execution_count": null,
   "metadata": {
    "collapsed": true,
    "nbpresent": {
     "id": "ceb23806-2bf0-46d5-9a6b-b60652bec6eb"
    }
   },
   "outputs": [],
   "source": [
    "M*N"
   ]
  },
  {
   "cell_type": "markdown",
   "metadata": {
    "nbpresent": {
     "id": "faef04b4-f0ac-4114-84a9-33b5672767c5"
    }
   },
   "source": [
    "## Do $MN$ and $NM$ always give you the same answer?"
   ]
  },
  {
   "cell_type": "code",
   "execution_count": null,
   "metadata": {
    "collapsed": true,
    "nbpresent": {
     "id": "4846bb21-95a3-4d50-b02e-c22f7c14b5eb"
    }
   },
   "outputs": [],
   "source": [
    "M+N"
   ]
  },
  {
   "cell_type": "markdown",
   "metadata": {
    "nbpresent": {
     "id": "5d86da88-1a39-43ad-8de0-db0e25d98166"
    }
   },
   "source": [
    "## What's the problem?"
   ]
  },
  {
   "cell_type": "markdown",
   "metadata": {
    "nbpresent": {
     "id": "231acef7-49af-40f5-9862-0bd100efaa32"
    }
   },
   "source": [
    "## Can you find two matrices that add up to 'zero' (and what does 'zero' look like)?"
   ]
  },
  {
   "cell_type": "markdown",
   "metadata": {
    "nbpresent": {
     "id": "f66a12a4-005c-4b11-beac-666c33706031"
    }
   },
   "source": [
    "## Can you find two matrices that multiply to give 'one' (and what does 'one' look like)?"
   ]
  },
  {
   "cell_type": "markdown",
   "metadata": {
    "nbpresent": {
     "id": "781b01f9-8a8e-491c-9355-09d38264ef08"
    }
   },
   "source": [
    "## Can you find two non-zero matrices that multiply to give 'zero'?"
   ]
  },
  {
   "cell_type": "markdown",
   "metadata": {
    "nbpresent": {
     "id": "37ac96f9-e246-4999-9979-54b64612e816"
    }
   },
   "source": [
    "# Transformations\n",
    "## Task: to find matrices that represent most transformations\n",
    "### Transformations\n",
    "We'll be interested in certain transformations that don't affect that origin, namely\n",
    "\n",
    "* Enlargement by any scale factor\n",
    "* Reflection in $x=0$, $y=0$, $x=y$, $x=-y$\n",
    "* Rotation through $90^\\circ$, $180^\\circ$, $270^\\circ$\n",
    "* *Challenge* Rotation through $45^\\circ$\n",
    "### First job - what do each of these transformations do to $(x, y)$?"
   ]
  },
  {
   "cell_type": "code",
   "execution_count": 36,
   "metadata": {
    "collapsed": true,
    "nbpresent": {
     "id": "06a9d8c2-fdde-46f6-9e03-baf5e0d62043"
    }
   },
   "outputs": [],
   "source": [
    "x, y, z = symbols('x y z')"
   ]
  },
  {
   "cell_type": "code",
   "execution_count": 11,
   "metadata": {
    "collapsed": true,
    "nbpresent": {
     "id": "08b674ee-12e8-4b2b-b89b-a896f6ea8707"
    }
   },
   "outputs": [],
   "source": [
    "P = Matrix([x,y])"
   ]
  },
  {
   "cell_type": "code",
   "execution_count": 12,
   "metadata": {
    "nbpresent": {
     "id": "21a020ff-026a-4679-b2a8-42bbc633e016"
    }
   },
   "outputs": [
    {
     "data": {
      "text/latex": [
       "$$\\left[\\begin{matrix}x\\\\y\\end{matrix}\\right]$$"
      ],
      "text/plain": [
       "⎡x⎤\n",
       "⎢ ⎥\n",
       "⎣y⎦"
      ]
     },
     "execution_count": 12,
     "metadata": {},
     "output_type": "execute_result"
    }
   ],
   "source": [
    "P"
   ]
  },
  {
   "cell_type": "code",
   "execution_count": null,
   "metadata": {
    "collapsed": true,
    "nbpresent": {
     "id": "e51873ca-b820-4dbd-a454-a2872b5d23f9"
    }
   },
   "outputs": [],
   "source": [
    "M = Matrix([[0,1],[1,0]])\n",
    "M"
   ]
  },
  {
   "cell_type": "code",
   "execution_count": null,
   "metadata": {
    "collapsed": true,
    "nbpresent": {
     "id": "3ca8ec40-2c2f-4b3e-a05f-e6857e2759ed"
    }
   },
   "outputs": [],
   "source": [
    "M*P"
   ]
  },
  {
   "cell_type": "markdown",
   "metadata": {
    "nbpresent": {
     "id": "e27b92b4-902e-4cb0-b959-f7b951268a9b"
    }
   },
   "source": [
    "# Matrices\n",
    "## The story so far\n",
    "Create a one-page reference for everything that you know about matrices so far\n",
    "\n",
    "Include\n",
    "* Definition of a matrix\n",
    "* Matrix arithmetic how-to\n",
    "* The importance of *order* (rowsxcolumns) of a matrix\n",
    "* The identity matrix $I$ and the zero matrix $0$\n",
    "* The transformations so far"
   ]
  },
  {
   "cell_type": "code",
   "execution_count": null,
   "metadata": {
    "collapsed": true,
    "nbpresent": {
     "id": "1620cd4d-c958-43aa-ab8e-1213684c2c2e"
    }
   },
   "outputs": [],
   "source": [
    "a, b, c, d = symbols('a b c d', real=True, nonzero=True)\n",
    "e, f, g, h = symbols('e f g h', real=True)\n",
    "M = Matrix([[a,b],[c,d]])\n",
    "N = Matrix([[e,f],[g,h]])\n",
    "M*N"
   ]
  },
  {
   "cell_type": "code",
   "execution_count": null,
   "metadata": {
    "collapsed": true
   },
   "outputs": [],
   "source": [
    "solve([(N*M).row(i).col(j)[0] - eye(2).row(i).col(j)[0] for i in [0,1] for j in [0,1]],e,f,g,h)"
   ]
  },
  {
   "cell_type": "code",
   "execution_count": null,
   "metadata": {
    "collapsed": true
   },
   "outputs": [],
   "source": [
    "M.inv().applyfunc(simplify)"
   ]
  },
  {
   "cell_type": "code",
   "execution_count": 18,
   "metadata": {},
   "outputs": [
    {
     "data": {
      "text/latex": [
       "$$\\left[\\begin{matrix}0 & 1\\\\1 & 0\\end{matrix}\\right]$$"
      ],
      "text/plain": [
       "⎡0  1⎤\n",
       "⎢    ⎥\n",
       "⎣1  0⎦"
      ]
     },
     "execution_count": 18,
     "metadata": {},
     "output_type": "execute_result"
    }
   ],
   "source": [
    "M=Matrix([[0,1],[1,0]])\n",
    "M"
   ]
  },
  {
   "cell_type": "code",
   "execution_count": 9,
   "metadata": {},
   "outputs": [
    {
     "data": {
      "text/latex": [
       "$$\\left[\\begin{matrix}3\\\\1\\end{matrix}\\right]$$"
      ],
      "text/plain": [
       "⎡3⎤\n",
       "⎢ ⎥\n",
       "⎣1⎦"
      ]
     },
     "execution_count": 9,
     "metadata": {},
     "output_type": "execute_result"
    }
   ],
   "source": [
    "M*Matrix([1,1])"
   ]
  },
  {
   "cell_type": "code",
   "execution_count": 13,
   "metadata": {},
   "outputs": [
    {
     "data": {
      "text/latex": [
       "$$\\left[\\begin{matrix}x + 2 y\\\\y\\end{matrix}\\right]$$"
      ],
      "text/plain": [
       "⎡x + 2⋅y⎤\n",
       "⎢       ⎥\n",
       "⎣   y   ⎦"
      ]
     },
     "execution_count": 13,
     "metadata": {},
     "output_type": "execute_result"
    }
   ],
   "source": [
    "M*P"
   ]
  },
  {
   "cell_type": "code",
   "execution_count": 14,
   "metadata": {},
   "outputs": [
    {
     "data": {
      "image/png": "[encoded data removed]",
      "text/latex": [
       "$$\\left \\{ y : 0\\right \\}$$"
      ],
      "text/plain": [
       "{y: 0}"
      ]
     },
     "execution_count": 14,
     "metadata": {},
     "output_type": "execute_result"
    }
   ],
   "source": [
    "solve(M*P-P)"
   ]
  },
  {
   "cell_type": "code",
   "execution_count": 28,
   "metadata": {
    "collapsed": true
   },
   "outputs": [],
   "source": [
    "m, c, x1, x0 = symbols('m c x1 x0')"
   ]
  },
  {
   "cell_type": "code",
   "execution_count": 29,
   "metadata": {},
   "outputs": [
    {
     "data": {
      "text/latex": [
       "$$\\left[\\begin{matrix}x_{0}\\\\c + m x_{0}\\end{matrix}\\right]$$"
      ],
      "text/plain": [
       "⎡   x₀   ⎤\n",
       "⎢        ⎥\n",
       "⎣c + m⋅x₀⎦"
      ]
     },
     "execution_count": 29,
     "metadata": {},
     "output_type": "execute_result"
    }
   ],
   "source": [
    "P = Matrix([x0,m*x0+c])\n",
    "P"
   ]
  },
  {
   "cell_type": "code",
   "execution_count": 30,
   "metadata": {},
   "outputs": [
    {
     "data": {
      "text/latex": [
       "$$\\left[\\begin{matrix}x_{1}\\\\c + m x_{1}\\end{matrix}\\right]$$"
      ],
      "text/plain": [
       "⎡   x₁   ⎤\n",
       "⎢        ⎥\n",
       "⎣c + m⋅x₁⎦"
      ]
     },
     "execution_count": 30,
     "metadata": {},
     "output_type": "execute_result"
    }
   ],
   "source": [
    "Q = Matrix([x1,m*x1+c])\n",
    "Q"
   ]
  },
  {
   "cell_type": "code",
   "execution_count": 31,
   "metadata": {},
   "outputs": [
    {
     "data": {
      "image/png": "[encoded data removed]",
      "text/latex": [
       "$$\\left [ \\left \\{ c : x_{0} + x_{1}, \\quad m : -1\\right \\}\\right ]$$"
      ],
      "text/plain": [
       "[{c: x₀ + x₁, m: -1}]"
      ]
     },
     "execution_count": 31,
     "metadata": {},
     "output_type": "execute_result"
    }
   ],
   "source": [
    "solve(M*P-Q)"
   ]
  },
  {
   "cell_type": "code",
   "execution_count": 7,
   "metadata": {
    "collapsed": true
   },
   "outputs": [],
   "source": [
    "M = Matrix([[1,3,1],[2,-1,-4],[4,5,-3]])"
   ]
  },
  {
   "cell_type": "code",
   "execution_count": 8,
   "metadata": {},
   "outputs": [
    {
     "data": {
      "text/latex": [
       "$$\\left[\\begin{matrix}4\\\\3\\\\9\\end{matrix}\\right]$$"
      ],
      "text/plain": [
       "⎡4⎤\n",
       "⎢ ⎥\n",
       "⎢3⎥\n",
       "⎢ ⎥\n",
       "⎣9⎦"
      ]
     },
     "execution_count": 8,
     "metadata": {},
     "output_type": "execute_result"
    }
   ],
   "source": [
    "N = Matrix([[4],[3],[9]])\n",
    "N"
   ]
  },
  {
   "cell_type": "code",
   "execution_count": 10,
   "metadata": {},
   "outputs": [
    {
     "data": {
      "text/latex": [
       "$$\\left[\\begin{matrix}5\\\\-1\\\\2\\end{matrix}\\right]$$"
      ],
      "text/plain": [
       "⎡5 ⎤\n",
       "⎢  ⎥\n",
       "⎢-1⎥\n",
       "⎢  ⎥\n",
       "⎣2 ⎦"
      ]
     },
     "execution_count": 10,
     "metadata": {},
     "output_type": "execute_result"
    }
   ],
   "source": [
    "M**(-1)*N"
   ]
  },
  {
   "cell_type": "code",
   "execution_count": 25,
   "metadata": {},
   "outputs": [
    {
     "data": {
      "image/png": "[encoded data removed]",
      "text/latex": [
       "$$a$$"
      ],
      "text/plain": [
       "a"
      ]
     },
     "execution_count": 25,
     "metadata": {},
     "output_type": "execute_result"
    }
   ],
   "source": [
    "a = symbols('a')\n",
    "M = Matrix([[2,-1,1],[0,3,1],[1,1,a]])\n",
    "a"
   ]
  },
  {
   "cell_type": "code",
   "execution_count": 26,
   "metadata": {},
   "outputs": [
    {
     "data": {
      "text/latex": [
       "$$\\left[\\begin{matrix}\\frac{18 a - 6}{36 a - 36} & \\frac{6 a + 6}{36 a - 36} & - \\frac{24}{36 a - 36}\\\\\\frac{3}{18 a - 18} & \\frac{6 a - 3}{18 a - 18} & - \\frac{6}{18 a - 18}\\\\- \\frac{3}{6 a - 6} & - \\frac{3}{6 a - 6} & \\frac{6}{6 a - 6}\\end{matrix}\\right]$$"
      ],
      "text/plain": [
       "⎡ 18⋅a - 6   6⋅a + 6      -24   ⎤\n",
       "⎢─────────  ─────────  ─────────⎥\n",
       "⎢36⋅a - 36  36⋅a - 36  36⋅a - 36⎥\n",
       "⎢                               ⎥\n",
       "⎢    3       6⋅a - 3      -6    ⎥\n",
       "⎢─────────  ─────────  ─────────⎥\n",
       "⎢18⋅a - 18  18⋅a - 18  18⋅a - 18⎥\n",
       "⎢                               ⎥\n",
       "⎢   -3         -3          6    ⎥\n",
       "⎢ ───────    ───────    ─────── ⎥\n",
       "⎣ 6⋅a - 6    6⋅a - 6    6⋅a - 6 ⎦"
      ]
     },
     "execution_count": 26,
     "metadata": {},
     "output_type": "execute_result"
    }
   ],
   "source": [
    "M**(-1)"
   ]
  },
  {
   "cell_type": "code",
   "execution_count": 27,
   "metadata": {},
   "outputs": [
    {
     "data": {
      "text/latex": [
       "$$\\left[\\begin{matrix}1\\\\2\\\\2\\end{matrix}\\right]$$"
      ],
      "text/plain": [
       "⎡1⎤\n",
       "⎢ ⎥\n",
       "⎢2⎥\n",
       "⎢ ⎥\n",
       "⎣2⎦"
      ]
     },
     "execution_count": 27,
     "metadata": {},
     "output_type": "execute_result"
    }
   ],
   "source": [
    "N = Matrix([[1],[2],[2]])\n",
    "N"
   ]
  },
  {
   "cell_type": "code",
   "execution_count": 32,
   "metadata": {
    "scrolled": true
   },
   "outputs": [
    {
     "data": {
      "text/latex": [
       "$$\\left[\\begin{matrix}\\frac{1}{2}\\\\\\frac{1}{2}\\\\\\frac{1}{2}\\end{matrix}\\right]$$"
      ],
      "text/plain": [
       "⎡1/2⎤\n",
       "⎢   ⎥\n",
       "⎢1/2⎥\n",
       "⎢   ⎥\n",
       "⎣1/2⎦"
      ]
     },
     "execution_count": 32,
     "metadata": {},
     "output_type": "execute_result"
    }
   ],
   "source": [
    "(M**(-1)*N).subs(a,2)"
   ]
  },
  {
   "cell_type": "code",
   "execution_count": 37,
   "metadata": {
    "collapsed": true
   },
   "outputs": [],
   "source": [
    "M=Matrix([[1,2,3],[1,4,-1],[1,3,1]])\n",
    "N=Matrix([[2],[1],[3]])"
   ]
  },
  {
   "cell_type": "code",
   "execution_count": 39,
   "metadata": {},
   "outputs": [
    {
     "data": {
      "image/png": "[encoded data removed]",
      "text/latex": [
       "$$\\left [ \\right ]$$"
      ],
      "text/plain": [
       "[]"
      ]
     },
     "execution_count": 39,
     "metadata": {},
     "output_type": "execute_result"
    }
   ],
   "source": [
    "solve(M*Matrix([[x],[y],[z]])-N,[x,y,z])"
   ]
  },
  {
   "cell_type": "code",
   "execution_count": 40,
   "metadata": {
    "collapsed": true
   },
   "outputs": [],
   "source": [
    "x, y, z =symbols('x y z')"
   ]
  },
  {
   "cell_type": "code",
   "execution_count": 44,
   "metadata": {},
   "outputs": [
    {
     "data": {
      "image/png": "[encoded data removed]",
      "text/latex": [
       "$$\\left [ \\right ]$$"
      ],
      "text/plain": [
       "[]"
      ]
     },
     "execution_count": 44,
     "metadata": {},
     "output_type": "execute_result"
    }
   ],
   "source": [
    "solve([2*x+3*y-z-1,-2*x-3*y+z-4])s"
   ]
  },
  {
   "cell_type": "code",
   "execution_count": 48,
   "metadata": {},
   "outputs": [
    {
     "data": {
      "image/png": "[encoded data removed]",
      "text/latex": [
       "$$\\left \\{ x : - z + 4, \\quad y : z - 6\\right \\}$$"
      ],
      "text/plain": [
       "{x: -z + 4, y: z - 6}"
      ]
     },
     "execution_count": 48,
     "metadata": {},
     "output_type": "execute_result"
    }
   ],
   "source": [
    "solve([5*x+4*y+z+4,3*x+y+2*z-6])"
   ]
  },
  {
   "cell_type": "code",
   "execution_count": 49,
   "metadata": {},
   "outputs": [
    {
     "data": {
      "image/png": "[encoded data removed]",
      "text/latex": [
       "$$\\left \\{ x : - z + \\frac{28}{9}, \\quad y : z - \\frac{44}{9}\\right \\}$$"
      ],
      "text/plain": [
       "{x: -z + 28/9, y: z - 44/9}"
      ]
     },
     "execution_count": 49,
     "metadata": {},
     "output_type": "execute_result"
    }
   ],
   "source": [
    "solve([5*x+4*y+z+4,x-y+2*z-8])"
   ]
  },
  {
   "cell_type": "code",
   "execution_count": 50,
   "metadata": {},
   "outputs": [
    {
     "data": {
      "image/png": "[encoded data removed]",
      "text/latex": [
       "$$\\left \\{ x : - z + \\frac{7}{2}, \\quad y : z - \\frac{9}{2}\\right \\}$$"
      ],
      "text/plain": [
       "{x: -z + 7/2, y: z - 9/2}"
      ]
     },
     "execution_count": 50,
     "metadata": {},
     "output_type": "execute_result"
    }
   ],
   "source": [
    "solve([3*x+y+2*z-6,x-y+2*z-8])"
   ]
  }
 ],
 "metadata": {
  "anaconda-cloud": {},
  "hide_input": false,
  "kernelspec": {
   "display_name": "Python 3",
   "language": "python",
   "name": "python3"
  },
  "language_info": {
   "codemirror_mode": {
    "name": "ipython",
    "version": 3
   },
   "file_extension": ".py",
   "mimetype": "text/x-python",
   "name": "python",
   "nbconvert_exporter": "python",
   "pygments_lexer": "ipython3",
   "version": "3.5.2"
  },
  "nbpresent": {
   "slides": {
    "e3dfa37f-896a-4e1b-8604-5e7b484ed525": {
     "id": "e3dfa37f-896a-4e1b-8604-5e7b484ed525",
     "prev": null,
     "regions": {
      "80881fec-8d14-4c15-aaa6-4e212226b5bd": {
       "attrs": {
        "height": 1,
        "width": 1,
        "x": 0,
        "y": 0
       },
       "content": {
        "cell": "e27b92b4-902e-4cb0-b959-f7b951268a9b",
        "part": "whole"
       },
       "id": "80881fec-8d14-4c15-aaa6-4e212226b5bd"
      }
     }
    }
   },
   "themes": {}
  }
 },
 "nbformat": 4,
 "nbformat_minor": 1
}
