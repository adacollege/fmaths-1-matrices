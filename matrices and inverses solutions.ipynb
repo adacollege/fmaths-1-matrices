{
 "cells": [
  {
   "cell_type": "markdown",
   "metadata": {},
   "source": [
    "# Matrices and Inverses\n",
    "\n",
    "## Assessment solutions using `sympy`"
   ]
  },
  {
   "cell_type": "code",
   "execution_count": 1,
   "metadata": {},
   "outputs": [],
   "source": [
    "from sympy import *\n",
    "x, y, z, k, a = symbols('x y z k a')\n",
    "init_printing()"
   ]
  },
  {
   "cell_type": "markdown",
   "metadata": {},
   "source": [
    "### Question 1"
   ]
  },
  {
   "cell_type": "code",
   "execution_count": 2,
   "metadata": {},
   "outputs": [],
   "source": [
    "M = Matrix([[3,-2],[4,-6]])"
   ]
  },
  {
   "cell_type": "code",
   "execution_count": 3,
   "metadata": {},
   "outputs": [
    {
     "data": {
      "image/png": "[encoded data removed]",
      "text/latex": [
       "$$-10$$"
      ],
      "text/plain": [
       "-10"
      ]
     },
     "execution_count": 3,
     "metadata": {},
     "output_type": "execute_result"
    }
   ],
   "source": [
    "det(M)"
   ]
  },
  {
   "cell_type": "markdown",
   "metadata": {},
   "source": [
    "So, the area scale factor is 10, and T has an area of 30 square units."
   ]
  },
  {
   "cell_type": "code",
   "execution_count": 4,
   "metadata": {},
   "outputs": [
    {
     "data": {
      "text/latex": [
       "$$\\left[\\begin{matrix}\\frac{3}{5} & - \\frac{1}{5}\\\\\\frac{2}{5} & - \\frac{3}{10}\\end{matrix}\\right]$$"
      ],
      "text/plain": [
       "⎡3/5  -1/5 ⎤\n",
       "⎢          ⎥\n",
       "⎣2/5  -3/10⎦"
      ]
     },
     "execution_count": 4,
     "metadata": {},
     "output_type": "execute_result"
    }
   ],
   "source": [
    "M**(-1)"
   ]
  },
  {
   "cell_type": "code",
   "execution_count": 5,
   "metadata": {},
   "outputs": [
    {
     "data": {
      "text/latex": [
       "$$\\left[\\begin{matrix}5\\\\3\\end{matrix}\\right]$$"
      ],
      "text/plain": [
       "⎡5⎤\n",
       "⎢ ⎥\n",
       "⎣3⎦"
      ]
     },
     "execution_count": 5,
     "metadata": {},
     "output_type": "execute_result"
    }
   ],
   "source": [
    "M**(-1)*Matrix([[9],[2]])"
   ]
  },
  {
   "cell_type": "markdown",
   "metadata": {},
   "source": [
    "### Question 2"
   ]
  },
  {
   "cell_type": "code",
   "execution_count": 6,
   "metadata": {},
   "outputs": [],
   "source": [
    "M = Matrix([[2,-3],[a,6]])"
   ]
  },
  {
   "cell_type": "code",
   "execution_count": 7,
   "metadata": {},
   "outputs": [
    {
     "data": {
      "image/png": "[encoded data removed]",
      "text/latex": [
       "$$\\left [ -4\\right ]$$"
      ],
      "text/plain": [
       "[-4]"
      ]
     },
     "execution_count": 7,
     "metadata": {},
     "output_type": "execute_result"
    }
   ],
   "source": [
    "solve(det(M),a)"
   ]
  },
  {
   "cell_type": "markdown",
   "metadata": {},
   "source": [
    "So a = -4"
   ]
  },
  {
   "cell_type": "code",
   "execution_count": 8,
   "metadata": {},
   "outputs": [],
   "source": [
    "M = Matrix([[2,-3],[-4,6]])"
   ]
  },
  {
   "cell_type": "code",
   "execution_count": 9,
   "metadata": {},
   "outputs": [
    {
     "data": {
      "text/latex": [
       "$$\\left[\\begin{matrix}2 x - 3 y\\\\- 4 x + 6 y\\end{matrix}\\right]$$"
      ],
      "text/plain": [
       "⎡2⋅x - 3⋅y ⎤\n",
       "⎢          ⎥\n",
       "⎣-4⋅x + 6⋅y⎦"
      ]
     },
     "execution_count": 9,
     "metadata": {},
     "output_type": "execute_result"
    }
   ],
   "source": [
    "M*Matrix([[x],[y]])"
   ]
  },
  {
   "cell_type": "markdown",
   "metadata": {},
   "source": [
    "$-4x+6y = -2(2x-3y)$\n",
    "\n",
    "So the equation of this line is $y=-2x$"
   ]
  },
  {
   "cell_type": "markdown",
   "metadata": {},
   "source": [
    "### Question 3"
   ]
  },
  {
   "cell_type": "code",
   "execution_count": 10,
   "metadata": {},
   "outputs": [
    {
     "data": {
      "image/png": "[encoded data removed]",
      "text/latex": [
       "$$882$$"
      ],
      "text/plain": [
       "882"
      ]
     },
     "execution_count": 10,
     "metadata": {},
     "output_type": "execute_result"
    }
   ],
   "source": [
    "M = Matrix([[3,-2,-18],[2,1,-5],[7,-32,2]])\n",
    "X = Matrix([[x],[y],[z]])\n",
    "A = Matrix([[6],[25],[20]])\n",
    "det(M)"
   ]
  },
  {
   "cell_type": "code",
   "execution_count": 11,
   "metadata": {},
   "outputs": [
    {
     "data": {
      "image/png": "[encoded data removed]",
      "text/latex": [
       "$$\\left \\{ x : 16, \\quad y : 3, \\quad z : 2\\right \\}$$"
      ],
      "text/plain": [
       "{x: 16, y: 3, z: 2}"
      ]
     },
     "execution_count": 11,
     "metadata": {},
     "output_type": "execute_result"
    }
   ],
   "source": [
    "solve(M*X-A)"
   ]
  },
  {
   "cell_type": "markdown",
   "metadata": {},
   "source": [
    "So there is a unique solution at $(16,3,2)$"
   ]
  },
  {
   "cell_type": "code",
   "execution_count": 12,
   "metadata": {},
   "outputs": [
    {
     "data": {
      "image/png": "[encoded data removed]",
      "text/latex": [
       "$$0$$"
      ],
      "text/plain": [
       "0"
      ]
     },
     "execution_count": 12,
     "metadata": {},
     "output_type": "execute_result"
    }
   ],
   "source": [
    "N = Matrix([[3,-2,-18],[2,1,-5],[7,10,2]])\n",
    "A = Matrix([[6],[25],[20]])\n",
    "det(N)"
   ]
  },
  {
   "cell_type": "markdown",
   "metadata": {},
   "source": [
    "There is no unique solution."
   ]
  },
  {
   "cell_type": "code",
   "execution_count": 13,
   "metadata": {},
   "outputs": [
    {
     "data": {
      "image/png": "[encoded data removed]",
      "text/latex": [
       "$$\\left \\{ x : 4 z + 8, \\quad y : - 3 z + 9\\right \\}$$"
      ],
      "text/plain": [
       "{x: 4⋅z + 8, y: -3⋅z + 9}"
      ]
     },
     "execution_count": 13,
     "metadata": {},
     "output_type": "execute_result"
    }
   ],
   "source": [
    "solve([3*x-2*y-18*z-6,2*x+y-5*z-25])"
   ]
  },
  {
   "cell_type": "code",
   "execution_count": 14,
   "metadata": {},
   "outputs": [
    {
     "data": {
      "image/png": "[encoded data removed]",
      "text/latex": [
       "$$\\left \\{ x : 4 z + \\frac{230}{13}, \\quad y : - 3 z - \\frac{135}{13}\\right \\}$$"
      ],
      "text/plain": [
       "⎧         230            135⎫\n",
       "⎨x: 4⋅z + ───, y: -3⋅z - ───⎬\n",
       "⎩          13             13⎭"
      ]
     },
     "execution_count": 14,
     "metadata": {},
     "output_type": "execute_result"
    }
   ],
   "source": [
    "solve([2*x+y-5*z-25,7*x+10*y+2*z-20])"
   ]
  },
  {
   "cell_type": "code",
   "execution_count": 15,
   "metadata": {
    "scrolled": true
   },
   "outputs": [
    {
     "data": {
      "image/png": "[encoded data removed]",
      "text/latex": [
       "$$\\left \\{ x : 4 z + \\frac{25}{11}, \\quad y : - 3 z + \\frac{9}{22}\\right \\}$$"
      ],
      "text/plain": [
       "⎧         25                ⎫\n",
       "⎨x: 4⋅z + ──, y: -3⋅z + 9/22⎬\n",
       "⎩         11                ⎭"
      ]
     },
     "execution_count": 15,
     "metadata": {},
     "output_type": "execute_result"
    }
   ],
   "source": [
    "solve([3*x-2*y-18*z-6,7*x+10*y+2*z-20])"
   ]
  },
  {
   "cell_type": "markdown",
   "metadata": {},
   "source": [
    "Any pair of the equations describes a different (parallel) straight line, so the solution set is a triangular prism"
   ]
  },
  {
   "cell_type": "markdown",
   "metadata": {},
   "source": [
    "### Question 4"
   ]
  },
  {
   "cell_type": "code",
   "execution_count": 16,
   "metadata": {},
   "outputs": [
    {
     "data": {
      "image/png": "[encoded data removed]",
      "text/latex": [
       "$$0$$"
      ],
      "text/plain": [
       "0"
      ]
     },
     "execution_count": 16,
     "metadata": {},
     "output_type": "execute_result"
    }
   ],
   "source": [
    "P=Matrix([[3,-7,0],[2,2,5],[1,3,4]])\n",
    "B=Matrix([[3],[2],[1]])\n",
    "det(P)"
   ]
  },
  {
   "cell_type": "markdown",
   "metadata": {},
   "source": [
    "So there is no unique solution"
   ]
  },
  {
   "cell_type": "code",
   "execution_count": 17,
   "metadata": {
    "scrolled": true
   },
   "outputs": [
    {
     "data": {
      "image/png": "[encoded data removed]",
      "text/latex": [
       "$$\\left \\{ x : - \\frac{7 z}{4} + 1, \\quad y : - \\frac{3 z}{4}\\right \\}$$"
      ],
      "text/plain": [
       "⎧     7⋅z         -3⋅z ⎫\n",
       "⎨x: - ─── + 1, y: ─────⎬\n",
       "⎩      4            4  ⎭"
      ]
     },
     "execution_count": 17,
     "metadata": {},
     "output_type": "execute_result"
    }
   ],
   "source": [
    "solve([3*x-7*y-3,2*x+2*y+5*z-2])"
   ]
  },
  {
   "cell_type": "code",
   "execution_count": 18,
   "metadata": {
    "scrolled": true
   },
   "outputs": [
    {
     "data": {
      "image/png": "[encoded data removed]",
      "text/latex": [
       "$$\\left \\{ x : - \\frac{7 z}{4} + 1, \\quad y : - \\frac{3 z}{4}\\right \\}$$"
      ],
      "text/plain": [
       "⎧     7⋅z         -3⋅z ⎫\n",
       "⎨x: - ─── + 1, y: ─────⎬\n",
       "⎩      4            4  ⎭"
      ]
     },
     "execution_count": 18,
     "metadata": {},
     "output_type": "execute_result"
    }
   ],
   "source": [
    "solve([3*x-7*y-3,x+3*y+4*z-1])"
   ]
  },
  {
   "cell_type": "code",
   "execution_count": 19,
   "metadata": {
    "scrolled": true
   },
   "outputs": [
    {
     "data": {
      "image/png": "[encoded data removed]",
      "text/latex": [
       "$$\\left \\{ x : - \\frac{7 z}{4} + 1, \\quad y : - \\frac{3 z}{4}\\right \\}$$"
      ],
      "text/plain": [
       "⎧     7⋅z         -3⋅z ⎫\n",
       "⎨x: - ─── + 1, y: ─────⎬\n",
       "⎩      4            4  ⎭"
      ]
     },
     "execution_count": 19,
     "metadata": {},
     "output_type": "execute_result"
    }
   ],
   "source": [
    "solve([2*x+2*y+5*z-2,x+3*y+4*z-1])"
   ]
  },
  {
   "cell_type": "markdown",
   "metadata": {},
   "source": [
    "Any pair of equations describes the same straight line, so the solution set is a sheaf of planes"
   ]
  },
  {
   "cell_type": "markdown",
   "metadata": {},
   "source": [
    "### Question 5"
   ]
  },
  {
   "cell_type": "code",
   "execution_count": 20,
   "metadata": {},
   "outputs": [
    {
     "data": {
      "image/png": "[encoded data removed]",
      "text/latex": [
       "$$0$$"
      ],
      "text/plain": [
       "0"
      ]
     },
     "execution_count": 20,
     "metadata": {},
     "output_type": "execute_result"
    }
   ],
   "source": [
    "Q=Matrix([[3,-3,-1],[2,-1,-1],[1,4,-2]])\n",
    "C=Matrix([[a],[5],[7]])\n",
    "det(Q)"
   ]
  },
  {
   "cell_type": "markdown",
   "metadata": {},
   "source": [
    "So there is no unique solution for $k=4$"
   ]
  },
  {
   "cell_type": "code",
   "execution_count": 21,
   "metadata": {},
   "outputs": [],
   "source": [
    "Q=Matrix([[3,-3,-1],[2,-1,-1],[1,2,-2]])\n",
    "C=Matrix([[8],[5],[7]])"
   ]
  },
  {
   "cell_type": "code",
   "execution_count": 22,
   "metadata": {},
   "outputs": [
    {
     "data": {
      "text/latex": [
       "$$\\left[\\begin{matrix}1 & 0 & 0 & -3\\\\0 & 1 & 0 & -3\\\\0 & 0 & 1 & -8\\end{matrix}\\right]$$"
      ],
      "text/plain": [
       "⎡1  0  0  -3⎤\n",
       "⎢           ⎥\n",
       "⎢0  1  0  -3⎥\n",
       "⎢           ⎥\n",
       "⎣0  0  1  -8⎦"
      ]
     },
     "execution_count": 22,
     "metadata": {},
     "output_type": "execute_result"
    }
   ],
   "source": [
    "Q.row_join(C).rref()[0]"
   ]
  },
  {
   "cell_type": "markdown",
   "metadata": {},
   "source": [
    "When $k=2$ and $a=8$, the solution is the point $(-3,-3,-8)$"
   ]
  },
  {
   "cell_type": "code",
   "execution_count": 23,
   "metadata": {},
   "outputs": [
    {
     "data": {
      "text/latex": [
       "$$\\left[\\begin{matrix}3 & -3 & -1 & a\\\\2 & -1 & -1 & 5\\\\1 & 4 & -2 & 7\\end{matrix}\\right]$$"
      ],
      "text/plain": [
       "⎡3  -3  -1  a⎤\n",
       "⎢            ⎥\n",
       "⎢2  -1  -1  5⎥\n",
       "⎢            ⎥\n",
       "⎣1  4   -2  7⎦"
      ]
     },
     "execution_count": 23,
     "metadata": {},
     "output_type": "execute_result"
    }
   ],
   "source": [
    "Q=Matrix([[3,-3,-1],[2,-1,-1],[1,4,-2]])\n",
    "C=Matrix([[a],[5],[7]])\n",
    "Q.row_join(C)"
   ]
  },
  {
   "cell_type": "code",
   "execution_count": 24,
   "metadata": {},
   "outputs": [
    {
     "data": {
      "text/latex": [
       "$$\\left[\\begin{matrix}3 & -3 & -1 & a\\\\0 & 3 & -1 & - 2 a + 15\\\\0 & 0 & 0 & 27 a - 162\\end{matrix}\\right]$$"
      ],
      "text/plain": [
       "⎡3  -3  -1      a     ⎤\n",
       "⎢                     ⎥\n",
       "⎢0  3   -1  -2⋅a + 15 ⎥\n",
       "⎢                     ⎥\n",
       "⎣0  0   0   27⋅a - 162⎦"
      ]
     },
     "execution_count": 24,
     "metadata": {},
     "output_type": "execute_result"
    }
   ],
   "source": [
    "Q.row_join(C).echelon_form()"
   ]
  },
  {
   "cell_type": "markdown",
   "metadata": {},
   "source": [
    "We need $27a-162=0$ for these equations to be consistent"
   ]
  },
  {
   "cell_type": "code",
   "execution_count": 25,
   "metadata": {},
   "outputs": [
    {
     "data": {
      "image/png": "[encoded data removed]",
      "text/latex": [
       "$$\\left [ 6\\right ]$$"
      ],
      "text/plain": [
       "[6]"
      ]
     },
     "execution_count": 25,
     "metadata": {},
     "output_type": "execute_result"
    }
   ],
   "source": [
    "solve(27*a-162)"
   ]
  },
  {
   "cell_type": "markdown",
   "metadata": {},
   "source": [
    "The equations are consistent when $a=6$"
   ]
  }
 ],
 "metadata": {
  "kernelspec": {
   "display_name": "Python 3",
   "language": "python",
   "name": "python3"
  },
  "language_info": {
   "codemirror_mode": {
    "name": "ipython",
    "version": 3
   },
   "file_extension": ".py",
   "mimetype": "text/x-python",
   "name": "python",
   "nbconvert_exporter": "python",
   "pygments_lexer": "ipython3",
   "version": "3.5.2"
  }
 },
 "nbformat": 4,
 "nbformat_minor": 2
}
